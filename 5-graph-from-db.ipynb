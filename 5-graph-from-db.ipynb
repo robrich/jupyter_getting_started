{
 "cells": [
  {
   "attachments": {},
   "cell_type": "markdown",
   "metadata": {},
   "source": [
    "Build a graph from database data"
   ]
  },
  {
   "cell_type": "code",
   "execution_count": null,
   "metadata": {},
   "outputs": [],
   "source": [
    "import pandas as pd\n",
    "from sqlalchemy import create_engine, text\n",
    "from matplotlib import pyplot as plt"
   ]
  },
  {
   "cell_type": "code",
   "execution_count": null,
   "metadata": {},
   "outputs": [],
   "source": [
    "# etl\n",
    "\n",
    "pg_host = 'localhost'\n",
    "pg_port = 5432\n",
    "pg_user = 'postgres'\n",
    "pg_pass = 'postgres'\n",
    "pg_db = 'pgdb'\n",
    "\n",
    "engine = create_engine(f'postgresql+psycopg2://{pg_user}:{pg_pass}@{pg_host}:{pg_port}/{pg_db}')\n",
    "pg_conn = engine.connect()\n",
    "\n",
    "etl = pd.read_csv('./data/csv/gapminder.csv')\n",
    "etl.to_sql('gapminder', pg_conn, if_exists='replace')\n",
    "pg_conn.commit()"
   ]
  },
  {
   "cell_type": "code",
   "execution_count": null,
   "metadata": {},
   "outputs": [],
   "source": [
    "# select data\n",
    "\n",
    "data = pd.read_sql_query(sql=text('select * from gapminder'), con=pg_conn)\n",
    "print(data)\n",
    "\n",
    "pg_conn.close()"
   ]
  },
  {
   "attachments": {},
   "cell_type": "markdown",
   "metadata": {},
   "source": [
    "analysis"
   ]
  },
  {
   "cell_type": "code",
   "execution_count": null,
   "metadata": {},
   "outputs": [],
   "source": [
    "latest = data.year.max()\n",
    "latest"
   ]
  },
  {
   "cell_type": "code",
   "execution_count": null,
   "metadata": {},
   "outputs": [],
   "source": [
    "earliest = data.year.min()\n",
    "earliest"
   ]
  },
  {
   "cell_type": "code",
   "execution_count": null,
   "metadata": {},
   "outputs": [],
   "source": [
    "data.year.unique()"
   ]
  },
  {
   "cell_type": "code",
   "execution_count": null,
   "metadata": {},
   "outputs": [],
   "source": [
    "# only latest year\n",
    "\n",
    "year = latest\n",
    "sel_year = data[data.year == year]\n",
    "sel_year"
   ]
  },
  {
   "cell_type": "code",
   "execution_count": null,
   "metadata": {},
   "outputs": [],
   "source": [
    "continent = sel_year.groupby('continent')\n",
    "continent.mean().lifeExp.plot(legend=True, title=f'Life Expectancy in {year}', kind='bar')\n",
    "plt.savefig('./results/lifeExp.png')\n",
    "plt.show()\n",
    "continent.pop.sum().plot(legend=True, title=f'Population in {year}', kind='bar')\n",
    "plt.savefig('./results/population.png')\n",
    "plt.show()\n",
    "continent.gdpPercap.sum().plot(legend=True, title=f'GDP per Capita in {year}', kind='bar')\n",
    "plt.savefig('./results/gdp.png')\n",
    "plt.show()"
   ]
  },
  {
   "cell_type": "code",
   "execution_count": null,
   "metadata": {},
   "outputs": [],
   "source": [
    "countries = data.country.unique()\n",
    "countries"
   ]
  },
  {
   "attachments": {},
   "cell_type": "markdown",
   "metadata": {},
   "source": [
    "specific country, multiple plots"
   ]
  },
  {
   "cell_type": "code",
   "execution_count": null,
   "metadata": {},
   "outputs": [],
   "source": [
    "country_name = 'Afghanistan'\n",
    "country = data[data.country == country_name]\n",
    "\n",
    "norm = lambda x: (x-x.min())/(x.max()-x.min())\n",
    "\n",
    "plt.plot(country['year'], norm(country['lifeExp']), 'red', linestyle='-', label='life expectancy')\n",
    "plt.plot(country['year'], norm(country['pop']), 'lime', linestyle='-', label='population')\n",
    "plt.plot(country['year'], norm(country['gdpPercap']), 'black', linestyle='--', label='gdp per capita')\n",
    "plt.legend(loc='best')\n",
    "plt.title(f'{country_name}, {country.continent.unique()[0]}')\n",
    "plt.yticks([])\n",
    "\n",
    "plt.show()\n"
   ]
  },
  {
   "cell_type": "code",
   "execution_count": null,
   "metadata": {},
   "outputs": [],
   "source": [
    "country_name = 'Afghanistan'\n",
    "country = data[data.country == country_name]\n",
    "\n",
    "fig, ax1 = plt.subplots(1,1)\n",
    "\n",
    "ax1.plot(country['year'], country['lifeExp'], 'red', linestyle='-', label='life expectancy')\n",
    "ax1.set_xlabel('year')\n",
    "ax1.set_ylabel('life expectancy', color='r')\n",
    "ax1.tick_params('y', colors='r')\n",
    "\n",
    "ax2 = ax1.twinx()\n",
    "ax2.spines['right'].set_position(('axes', 1.15)) # move the axis right a bit\n",
    "ax2.plot(country['year'], country['pop'], 'blue', linestyle=':', label='population')\n",
    "ax2.set_ylabel('population (Mil)', color='blue')\n",
    "ax2.tick_params('y', colors='blue')\n",
    "                \n",
    "ax3 = ax1.twinx()\n",
    "ax3.plot(country['year'], country['gdpPercap'], 'black', linestyle='--', label='gdp per capita')\n",
    "ax3.set_ylabel('gdp per capita', color='black')\n",
    "ax3.tick_params('y', colors='black')\n",
    "\n",
    "fig.tight_layout()\n",
    "\n",
    "plt.title(f'{country_name}, {country.continent.unique()[0]}')\n",
    "plt.show()"
   ]
  }
 ],
 "metadata": {
  "kernelspec": {
   "display_name": ".venv",
   "language": "python",
   "name": "python3"
  },
  "language_info": {
   "codemirror_mode": {
    "name": "ipython",
    "version": 3
   },
   "file_extension": ".py",
   "mimetype": "text/x-python",
   "name": "python",
   "nbconvert_exporter": "python",
   "pygments_lexer": "ipython3",
   "version": "3.10.11"
  },
  "orig_nbformat": 4
 },
 "nbformat": 4,
 "nbformat_minor": 2
}
