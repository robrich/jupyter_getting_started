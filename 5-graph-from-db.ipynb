{
 "cells": [
  {
   "attachments": {},
   "cell_type": "markdown",
   "metadata": {},
   "source": [
    "Build a graph from database data"
   ]
  },
  {
   "cell_type": "code",
   "execution_count": null,
   "metadata": {},
   "outputs": [],
   "source": [
    "import pandas as pd\n",
    "from sqlalchemy import create_engine, text\n",
    "from matplotlib import pyplot as plt"
   ]
  },
  {
   "cell_type": "code",
   "execution_count": null,
   "metadata": {},
   "outputs": [],
   "source": [
    "# etl\n",
    "\n",
    "pg_host = 'localhost'\n",
    "pg_port = 5432\n",
    "pg_user = 'postgres'\n",
    "pg_pass = 'postgres'\n",
    "pg_db = 'pgdb'\n",
    "\n",
    "engine = create_engine(f'postgresql+psycopg2://{pg_user}:{pg_pass}@{pg_host}:{pg_port}/{pg_db}')\n",
    "pg_conn = engine.connect()\n",
    "\n",
    "etl = pd.read_csv('./data/csv/gapminder.csv')\n",
    "etl.to_sql('gapminder', pg_conn, if_exists='replace')\n",
    "pg_conn.commit()"
   ]
  },
  {
   "cell_type": "code",
   "execution_count": null,
   "metadata": {},
   "outputs": [],
   "source": [
    "# select data\n",
    "\n",
    "data = pd.read_sql_query(sql=text('select * from gapminder'), con=pg_conn)\n",
    "print(data)\n",
    "\n",
    "pg_conn.close()"
   ]
  },
  {
   "attachments": {},
   "cell_type": "markdown",
   "metadata": {},
   "source": [
    "analysis"
   ]
  },
  {
   "cell_type": "code",
   "execution_count": null,
   "metadata": {},
   "outputs": [],
   "source": [
    "latest = data.year.max()\n",
    "latest"
   ]
  },
  {
   "cell_type": "code",
   "execution_count": null,
   "metadata": {},
   "outputs": [],
   "source": [
    "earliest = data.year.min()\n",
    "earliest"
   ]
  },
  {
   "cell_type": "code",
   "execution_count": null,
   "metadata": {},
   "outputs": [],
   "source": [
    "data.year.unique()"
   ]
  },
  {
   "cell_type": "code",
   "execution_count": null,
   "metadata": {},
   "outputs": [],
   "source": [
    "# only latest year\n",
    "\n",
    "sel_year = data[data.year == latest]\n",
    "sel_year"
   ]
  },
  {
   "cell_type": "code",
   "execution_count": null,
   "metadata": {},
   "outputs": [],
   "source": [
    "continent = sel_year.groupby('continent')\n",
    "continent.mean().lifeExp.plot(legend=True, title=f'Life Expectancy in {latest}')\n",
    "plt.savefig('./results/lifeExp.png')\n",
    "plt.show()\n",
    "continent.pop.sum().plot(legend=True, title=f'Population in {latest}')\n",
    "plt.savefig('./results/population.png')\n",
    "plt.show()\n",
    "continent.gdpPercap.sum().plot(legend=True, title=f'GDP per Capita in {latest}')\n",
    "plt.savefig('./results/gdp.png')\n",
    "plt.show()"
   ]
  }
 ],
 "metadata": {
  "kernelspec": {
   "display_name": ".venv",
   "language": "python",
   "name": "python3"
  },
  "language_info": {
   "codemirror_mode": {
    "name": "ipython",
    "version": 3
   },
   "file_extension": ".py",
   "mimetype": "text/x-python",
   "name": "python",
   "nbconvert_exporter": "python",
   "pygments_lexer": "ipython3",
   "version": "3.10.10"
  },
  "orig_nbformat": 4
 },
 "nbformat": 4,
 "nbformat_minor": 2
}
