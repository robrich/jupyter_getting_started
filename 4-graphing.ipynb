{
 "cells": [
  {
   "attachments": {},
   "cell_type": "markdown",
   "metadata": {},
   "source": [
    "# Playing with NumPy, Pandas, and MatPlotLib"
   ]
  },
  {
   "attachments": {},
   "cell_type": "markdown",
   "metadata": {},
   "source": [
    "[NumPy](https://pypi.org/project/numpy/) is a great library for scientific math"
   ]
  },
  {
   "cell_type": "code",
   "execution_count": null,
   "metadata": {},
   "outputs": [],
   "source": [
    "import numpy as np\n",
    "\n",
    "nums = np.linspace(0, 20, 5) # start, stop, step\n",
    "nums"
   ]
  },
  {
   "cell_type": "code",
   "execution_count": null,
   "metadata": {},
   "outputs": [],
   "source": [
    "nums = np.arange(20) # 0-19, note\n",
    "print(nums[:3])\n",
    "print(nums[14:])"
   ]
  },
  {
   "cell_type": "code",
   "execution_count": null,
   "metadata": {},
   "outputs": [],
   "source": [
    "d = np.array([[1,2,3], [3,4,5], [4,5,6]])\n",
    "print(d)\n",
    "d.shape # dimensions of array"
   ]
  },
  {
   "cell_type": "code",
   "execution_count": null,
   "metadata": {},
   "outputs": [],
   "source": [
    "arr_csv = np.genfromtxt('./data/csv/grades.csv', delimiter=',') # assumes all data is numeric\n",
    "np.savetxt('results/newfile.csv', arr_csv, delimiter=',')"
   ]
  },
  {
   "attachments": {},
   "cell_type": "markdown",
   "metadata": {},
   "source": [
    "[Pandas](https://pypi.org/project/pandas/) adds data frames"
   ]
  },
  {
   "cell_type": "code",
   "execution_count": null,
   "metadata": {},
   "outputs": [],
   "source": [
    "import pandas as pd\n",
    "\n",
    "arr = np.array([10,20,30,40,50])\n",
    "series1 = pd.Series(arr)\n",
    "print(series1)"
   ]
  },
  {
   "cell_type": "code",
   "execution_count": null,
   "metadata": {},
   "outputs": [],
   "source": [
    "data = {'a':10, 'b':20, 'c':30}\n",
    "series2 = pd.Series(data)\n",
    "print(series2)"
   ]
  },
  {
   "cell_type": "code",
   "execution_count": null,
   "metadata": {},
   "outputs": [],
   "source": [
    "data = [{'a':1, 'b':2}, {'a':2, 'b':4, 'c':8}]\n",
    "table1 = pd.DataFrame(data)\n",
    "print(table1)"
   ]
  },
  {
   "cell_type": "code",
   "execution_count": null,
   "metadata": {},
   "outputs": [],
   "source": [
    "table2 = pd.read_csv('./data/csv/grades.csv',delimiter=',',header='infer')\n",
    "table2.to_csv('results/newfile.csv')\n",
    "table2"
   ]
  },
  {
   "attachments": {},
   "cell_type": "markdown",
   "metadata": {},
   "source": [
    "[MatPlotLib](https://pypi.org/project/matplotlib/) adds graphing"
   ]
  },
  {
   "cell_type": "code",
   "execution_count": null,
   "metadata": {},
   "outputs": [],
   "source": [
    "from matplotlib import pyplot as plt\n",
    "\n",
    "x = np.arange(0, 5, 0.01)\n",
    "plt.plot(x, [x1 for x1 in x], label='linear')\n",
    "plt.plot(x, [x1*x1 for x1 in x], label='quadratic')\n",
    "plt.plot(x, [x1*x1*x1 for x1 in x], label='cubic')\n",
    "plt.xlabel('x-axis')\n",
    "plt.ylabel('y-axis')\n",
    "plt.grid(True)\n",
    "plt.title(\"Polynomial Graph\")\n",
    "plt.legend()\n",
    "plt.text(1.1,82,'some text at a certain point', fontsize=10)\n",
    "plt.savefig('results/fig1.png')\n",
    "plt.show()"
   ]
  }
 ],
 "metadata": {
  "kernelspec": {
   "display_name": ".venv",
   "language": "python",
   "name": "python3"
  },
  "language_info": {
   "codemirror_mode": {
    "name": "ipython",
    "version": 3
   },
   "file_extension": ".py",
   "mimetype": "text/x-python",
   "name": "python",
   "nbconvert_exporter": "python",
   "pygments_lexer": "ipython3",
   "version": "3.10.11"
  },
  "orig_nbformat": 4
 },
 "nbformat": 4,
 "nbformat_minor": 2
}
