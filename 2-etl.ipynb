{
 "cells": [
  {
   "attachments": {},
   "cell_type": "markdown",
   "metadata": {},
   "source": [
    "# Moving data from Postgres to SQL Server"
   ]
  },
  {
   "attachments": {},
   "cell_type": "markdown",
   "metadata": {},
   "source": [
    "Start the databases\n",
    "\n",
    "Run this from the terminal:\n",
    "\n",
    "```\n",
    "docker-compose up\n",
    "```"
   ]
  },
  {
   "attachments": {},
   "cell_type": "markdown",
   "metadata": {},
   "source": [
    "Let's connect to Postgres and select some data"
   ]
  },
  {
   "cell_type": "code",
   "execution_count": null,
   "metadata": {},
   "outputs": [],
   "source": [
    "import psycopg2\n",
    "\n",
    "pg_host = 'localhost'\n",
    "pg_port = 5432\n",
    "pg_user = 'postgres'\n",
    "pg_pass = 'postgres'\n",
    "pg_db = 'pgdb'\n",
    "\n",
    "pg_conn = psycopg2.connect(host=pg_host,user=pg_user,password=pg_pass,dbname=pg_db)\n",
    "cur = pg_conn.cursor()\n",
    "cur.execute(\"select * from movies\")\n",
    "movies = cur.fetchall()\n",
    "print(movies)\n",
    "pg_conn.close()"
   ]
  },
  {
   "attachments": {},
   "cell_type": "markdown",
   "metadata": {},
   "source": [
    "Let's load from Postgres into a data frame"
   ]
  },
  {
   "cell_type": "code",
   "execution_count": null,
   "metadata": {},
   "outputs": [],
   "source": [
    "from sqlalchemy import create_engine, text\n",
    "import pandas as pd\n",
    "\n",
    "engine = create_engine(f'postgresql+psycopg2://{pg_user}:{pg_pass}@{pg_host}:{pg_port}/{pg_db}')\n",
    "pg_conn = engine.connect()\n",
    "\n",
    "#df = pd.read_csv(\"https://raw.githubusercontent.com/kirenz/datasets/master/gapminder.csv\")\n",
    "#df.to_csv('data/csv/gapminder.csv', mode='w') # overwrite\n",
    "df = pd.read_csv('./data/csv/gapminder.csv')\n",
    "df.to_sql('gapminder', pg_conn, if_exists='replace')\n",
    "pg_conn.commit()\n",
    "\n",
    "df2 = pd.read_sql_query(sql=text('select * from gapminder'), con=pg_conn)\n",
    "print(df2)\n",
    "\n",
    "pg_conn.close()\n"
   ]
  },
  {
   "attachments": {},
   "cell_type": "markdown",
   "metadata": {},
   "source": [
    "Let's load from SQL Server"
   ]
  },
  {
   "cell_type": "code",
   "execution_count": null,
   "metadata": {},
   "outputs": [],
   "source": [
    "import pyodbc\n",
    "\n",
    "# create database if it doesn't exist\n",
    "\n",
    "ms_host = 'localhost'\n",
    "ms_port = 1433\n",
    "ms_user = 'sa'\n",
    "ms_pass = 'Password123'\n",
    "ms_db = 'Movies'\n",
    "\n",
    "mssql_conn = pyodbc.connect('DRIVER={SQL Server Native Client 11.0};'\n",
    "                            f'Server={ms_host};'\n",
    "                            'Database=master;'\n",
    "                            f'uid={ms_user};pwd={ms_pass};'\n",
    "                            'TrustServerCertificate=yes;',\n",
    "                            autocommit=True)\n",
    "mssql_conn.execute(\"IF NOT EXISTS(SELECT * FROM sys.databases WHERE name = 'Movies') BEGIN CREATE DATABASE Movies END\")\n",
    "mssql_conn.commit()\n",
    "mssql_conn.close()"
   ]
  },
  {
   "cell_type": "code",
   "execution_count": null,
   "metadata": {},
   "outputs": [],
   "source": [
    "from sqlalchemy import create_engine, text\n",
    "import pandas as pd\n",
    "\n",
    "ms_host = 'localhost'\n",
    "ms_port = 1433\n",
    "ms_user = 'sa'\n",
    "ms_pass = 'Password123'\n",
    "ms_db = 'Movies'\n",
    "\n",
    "# connect to the db\n",
    "mssql_engine = create_engine(f'mssql+pyodbc://{ms_user}:{ms_pass}@{ms_host}/{ms_db}?driver=SQL+Server+Native+Client+11.0&TrustServerCertificate=yes')\n",
    "mssql_conn = mssql_engine.connect()\n",
    "\n",
    "# load data into database\n",
    "df = pd.read_csv('./data/csv/gapminder.csv')\n",
    "df.to_sql('GapMinder', mssql_engine, schema='dbo', if_exists='replace')\n",
    "mssql_conn.commit()\n",
    "\n",
    "# select data from database\n",
    "df3 = pd.read_sql_query(sql=text('select * from dbo.GapMinder'), con=mssql_conn)\n",
    "print(df3)\n",
    "\n",
    "mssql_conn.close()\n"
   ]
  },
  {
   "attachments": {},
   "cell_type": "markdown",
   "metadata": {},
   "source": [
    "Now that we've successfully connected to each database, let's move data from Postgres to SQL Server"
   ]
  },
  {
   "cell_type": "code",
   "execution_count": null,
   "metadata": {},
   "outputs": [],
   "source": [
    "from sqlalchemy import create_engine, text\n",
    "import pandas as pd\n",
    "\n",
    "# get data from Postgres\n",
    "pg_engine = create_engine(f'postgresql+psycopg2://{pg_user}:{pg_pass}@{pg_host}:{pg_port}/{pg_db}')\n",
    "pg_conn = pg_engine.connect()\n",
    "\n",
    "df = pd.read_sql_query(sql=text('select * from movies'), con=pg_conn)\n",
    "\n",
    "pg_conn.close()\n",
    "\n",
    "# save data to SQL Server\n",
    "mssql_engine = create_engine(f'mssql+pyodbc://{ms_user}:{ms_pass}@{ms_host}/{ms_db}?driver=SQL+Server+Native+Client+11.0&TrustServerCertificate=yes')\n",
    "mssql_conn = mssql_engine.connect()\n",
    "\n",
    "mssql_conn.execute(statement=text('drop table if exists dbo.Movies'))\n",
    "df.to_sql('Movies', mssql_engine, schema='dbo', if_exists='replace')\n",
    "\n",
    "df2 = pd.read_sql_query(sql=text('select * from dbo.Movies'), con=mssql_conn)\n",
    "\n",
    "mssql_conn.commit()\n",
    "mssql_conn.close()"
   ]
  },
  {
   "attachments": {},
   "cell_type": "markdown",
   "metadata": {},
   "source": [
    "What data did we load?"
   ]
  },
  {
   "cell_type": "code",
   "execution_count": null,
   "metadata": {},
   "outputs": [],
   "source": [
    "df2"
   ]
  }
 ],
 "metadata": {
  "kernelspec": {
   "display_name": ".venv",
   "language": "python",
   "name": "python3"
  },
  "language_info": {
   "codemirror_mode": {
    "name": "ipython",
    "version": 3
   },
   "file_extension": ".py",
   "mimetype": "text/x-python",
   "name": "python",
   "nbconvert_exporter": "python",
   "pygments_lexer": "ipython3",
   "version": "3.10.11"
  },
  "orig_nbformat": 4
 },
 "nbformat": 4,
 "nbformat_minor": 2
}
