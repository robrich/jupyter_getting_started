{
 "cells": [
  {
   "attachments": {},
   "cell_type": "markdown",
   "metadata": {},
   "source": [
    "# Application Diagnosis Runbook\n",
    "\n",
    "Use this runbook to diagnose a failed web server"
   ]
  },
  {
   "attachments": {},
   "cell_type": "markdown",
   "metadata": {},
   "source": [
    "Is the container running?"
   ]
  },
  {
   "cell_type": "code",
   "execution_count": null,
   "metadata": {},
   "outputs": [],
   "source": [
    "!docker container list"
   ]
  },
  {
   "attachments": {},
   "cell_type": "markdown",
   "metadata": {},
   "source": [
    "Is the certificate expired?"
   ]
  },
  {
   "cell_type": "code",
   "execution_count": null,
   "metadata": {},
   "outputs": [],
   "source": [
    "import requests\n",
    "from datetime import datetime\n",
    "\n",
    "def get_cert(url):\n",
    "    try:\n",
    "        with requests.get(url, stream=True) as response:\n",
    "            certificate_info = response.raw.connection.sock.getpeercert()\n",
    "            #print(certificate_info)\n",
    "\n",
    "            subject = dict(x[0] for x in certificate_info['subject'])\n",
    "            issuer = dict(x[0] for x in certificate_info['issuer'])\n",
    "            sans = [x[1] for x in certificate_info['subjectAltName']]\n",
    "\n",
    "            result = {}\n",
    "            result['status'] = \"success\"\n",
    "            result['commonName'] = subject['commonName']\n",
    "            result['SANs'] = sans\n",
    "            result['notBefore'] = datetime.strptime(certificate_info['notBefore'], '%b %d %H:%M:%S %Y GMT')\n",
    "            result['notAfter'] = datetime.strptime(certificate_info['notAfter'], '%b %d %H:%M:%S %Y GMT')\n",
    "            result['serialNumber'] = certificate_info['serialNumber']\n",
    "\n",
    "            return result\n",
    "    except Exception as e:\n",
    "       result = {}\n",
    "       result['status'] = \"error\"\n",
    "       result['message'] = e.args\n",
    "       return result\n",
    "\n",
    "url = \"https://robrich.org/\"\n",
    "#url = \"https://www.azgivecamp.org/\"\n",
    "#url = \"https://azgivecamp.org/\"\n",
    "cert = get_cert(url)\n",
    "#print(cert)\n",
    "if cert[\"status\"] == \"error\":\n",
    "    print(f'Error getting cert from {url}')\n",
    "    print(cert[\"message\"])\n",
    "elif cert[\"notBefore\"] < datetime.utcnow() and cert[\"notAfter\"] > datetime.utcnow():\n",
    "    print(url, \"Cert is valid\")\n",
    "elif cert[\"notBefore\"] >= datetime.utcnow():\n",
    "    print(url, \"Cert is not yet valid\", cert[\"notBefore\"])\n",
    "elif cert[\"notAfter\"] <= datetime.utcnow():\n",
    "    print(url, \"Cert is expired\", cert['notAfter'])\n",
    "else:\n",
    "    print(f'Cert is invalid for {url}')"
   ]
  },
  {
   "attachments": {},
   "cell_type": "markdown",
   "metadata": {},
   "source": [
    "Can we connect to the database?"
   ]
  },
  {
   "cell_type": "code",
   "execution_count": null,
   "metadata": {},
   "outputs": [],
   "source": [
    "import psycopg2\n",
    "\n",
    "pg_conn = psycopg2.connect(host=\"localhost\",user=\"postgres\",password=\"postgres\",dbname=\"pgdb\")\n",
    "cur = pg_conn.cursor()\n",
    "cur.execute(\"select count(*) from movies\")\n",
    "rows = cur.fetchone()[0]\n",
    "print(f'Rows in the movies table: {rows}')\n",
    "pg_conn.close()"
   ]
  },
  {
   "attachments": {},
   "cell_type": "markdown",
   "metadata": {},
   "source": [
    "Can we get the home page?"
   ]
  },
  {
   "cell_type": "code",
   "execution_count": null,
   "metadata": {},
   "outputs": [],
   "source": [
    "import requests\n",
    "\n",
    "res = requests.get(url)\n",
    "print(f'HTTP Status Code: {res.status_code}')\n",
    "print(res.content)"
   ]
  },
  {
   "cell_type": "code",
   "execution_count": null,
   "metadata": {},
   "outputs": [],
   "source": [
    "%%html\n",
    "<iframe src=\"https://robrich.org/\" width=\"1000\" height=\"800\"></iframe>"
   ]
  }
 ],
 "metadata": {
  "kernelspec": {
   "display_name": ".venv",
   "language": "python",
   "name": "python3"
  },
  "language_info": {
   "codemirror_mode": {
    "name": "ipython",
    "version": 3
   },
   "file_extension": ".py",
   "mimetype": "text/x-python",
   "name": "python",
   "nbconvert_exporter": "python",
   "pygments_lexer": "ipython3",
   "version": "3.10.11"
  },
  "orig_nbformat": 4
 },
 "nbformat": 4,
 "nbformat_minor": 2
}
