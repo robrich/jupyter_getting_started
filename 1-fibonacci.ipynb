{
 "cells": [
  {
   "attachments": {},
   "cell_type": "markdown",
   "id": "6a2c96dd",
   "metadata": {},
   "source": [
    "Let's play with Jupyter"
   ]
  },
  {
   "cell_type": "code",
   "execution_count": null,
   "id": "fd313861",
   "metadata": {},
   "outputs": [],
   "source": [
    "foo = 'bar'"
   ]
  },
  {
   "cell_type": "code",
   "execution_count": null,
   "id": "d3fb9027",
   "metadata": {},
   "outputs": [],
   "source": [
    "foo"
   ]
  },
  {
   "attachments": {},
   "cell_type": "markdown",
   "id": "e5645080",
   "metadata": {},
   "source": [
    "The fibbonacci sequence"
   ]
  },
  {
   "cell_type": "code",
   "execution_count": null,
   "id": "dc9243fa",
   "metadata": {},
   "outputs": [],
   "source": [
    "# define the fibonacci function\n",
    "fib_array = [0, 1]\n",
    "def fibonacci(n):\n",
    "\n",
    "    if n < 1:\n",
    "        return 0\n",
    "    elif n < len(fib_array):\n",
    "        return fib_array[n]\n",
    "    else:\n",
    "        fib_array.append(fibonacci(n - 2) + fibonacci(n - 1))\n",
    "        return fib_array[n]"
   ]
  },
  {
   "cell_type": "code",
   "execution_count": null,
   "id": "65ac91ec",
   "metadata": {},
   "outputs": [],
   "source": [
    "fibonacci(10)"
   ]
  }
 ],
 "metadata": {
  "kernelspec": {
   "display_name": ".venv",
   "language": "python",
   "name": "python3"
  },
  "language_info": {
   "codemirror_mode": {
    "name": "ipython",
    "version": 3
   },
   "file_extension": ".py",
   "mimetype": "text/x-python",
   "name": "python",
   "nbconvert_exporter": "python",
   "pygments_lexer": "ipython3",
   "version": "3.10.11"
  }
 },
 "nbformat": 4,
 "nbformat_minor": 5
}
